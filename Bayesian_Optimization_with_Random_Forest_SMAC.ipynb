{
  "cells": [
    {
      "cell_type": "markdown",
      "metadata": {
        "id": "OX3H81ycGNHW"
      },
      "source": [
        "#### Import libraries"
      ]
    },
    {
      "cell_type": "code",
      "execution_count": null,
      "metadata": {
        "colab": {
          "base_uri": "https://localhost:8080/"
        },
        "id": "VWm5XPx1Jl_c",
        "outputId": "560e7638-84da-407e-cf5e-6124e79e58ec"
      },
      "outputs": [
        {
          "name": "stdout",
          "output_type": "stream",
          "text": [
            "Collecting scikit-optimize\n",
            "  Downloading scikit_optimize-0.10.1-py2.py3-none-any.whl (107 kB)\n",
            "\u001b[?25l     \u001b[90m━━━━━━━━━━━━━━━━━━━━━━━━━━━━━━━━━━━━━━━━\u001b[0m \u001b[32m0.0/107.7 kB\u001b[0m \u001b[31m?\u001b[0m eta \u001b[36m-:--:--\u001b[0m\r\u001b[2K     \u001b[91m━━━━━━━━━━━━━━━━━━━━━━━━━━━━━━━━━━━━━━\u001b[0m\u001b[90m╺\u001b[0m\u001b[90m━\u001b[0m \u001b[32m102.4/107.7 kB\u001b[0m \u001b[31m3.7 MB/s\u001b[0m eta \u001b[36m0:00:01\u001b[0m\r\u001b[2K     \u001b[90m━━━━━━━━━━━━━━━━━━━━━━━━━━━━━━━━━━━━━━━━\u001b[0m \u001b[32m107.7/107.7 kB\u001b[0m \u001b[31m2.6 MB/s\u001b[0m eta \u001b[36m0:00:00\u001b[0m\n",
            "\u001b[?25hRequirement already satisfied: joblib>=0.11 in /usr/local/lib/python3.10/dist-packages (from scikit-optimize) (1.4.2)\n",
            "Collecting pyaml>=16.9 (from scikit-optimize)\n",
            "  Downloading pyaml-24.4.0-py3-none-any.whl (24 kB)\n",
            "Requirement already satisfied: numpy>=1.20.3 in /usr/local/lib/python3.10/dist-packages (from scikit-optimize) (1.25.2)\n",
            "Requirement already satisfied: scipy>=1.1.0 in /usr/local/lib/python3.10/dist-packages (from scikit-optimize) (1.11.4)\n",
            "Requirement already satisfied: scikit-learn>=1.0.0 in /usr/local/lib/python3.10/dist-packages (from scikit-optimize) (1.2.2)\n",
            "Requirement already satisfied: packaging>=21.3 in /usr/local/lib/python3.10/dist-packages (from scikit-optimize) (24.0)\n",
            "Requirement already satisfied: PyYAML in /usr/local/lib/python3.10/dist-packages (from pyaml>=16.9->scikit-optimize) (6.0.1)\n",
            "Requirement already satisfied: threadpoolctl>=2.0.0 in /usr/local/lib/python3.10/dist-packages (from scikit-learn>=1.0.0->scikit-optimize) (3.5.0)\n",
            "Installing collected packages: pyaml, scikit-optimize\n",
            "Successfully installed pyaml-24.4.0 scikit-optimize-0.10.1\n"
          ]
        }
      ],
      "source": [
        "%pip install scikit-optimize"
      ]
    },
    {
      "cell_type": "code",
      "execution_count": null,
      "metadata": {
        "id": "YYuojAzhGMsD"
      },
      "outputs": [],
      "source": [
        "import os\n",
        "os.environ['PYTHONHASHEEED'] = '0'\n",
        "\n",
        "import numpy as np\n",
        "import tensorflow as tf\n",
        "import random as python_random\n",
        "\n",
        "np.random.seed(123)\n",
        "\n",
        "python_random.seed(123)\n",
        "\n",
        "tf.random.set_seed(1234)"
      ]
    },
    {
      "cell_type": "code",
      "execution_count": null,
      "metadata": {
        "id": "alxzFTTdfHwP"
      },
      "outputs": [],
      "source": [
        "import itertools\n",
        "import pandas as pd\n",
        "import matplotlib.pyplot as plt\n",
        "import seaborn as sns\n",
        "from sklearn.datasets import fetch_openml\n",
        "from keras.datasets import mnist\n",
        "\n",
        "from sklearn.model_selection import train_test_split\n",
        "from sklearn.metrics import confusion_matrix"
      ]
    },
    {
      "cell_type": "code",
      "execution_count": null,
      "metadata": {
        "id": "tYafniPtInFC"
      },
      "outputs": [],
      "source": [
        "from tensorflow.keras.utils import to_categorical\n",
        "from keras.models import Sequential, load_model\n",
        "from keras.layers import Dense, Flatten, Conv2D, MaxPool2D\n",
        "from keras.optimizers import Adam\n",
        "from keras.callbacks import ReduceLROnPlateau"
      ]
    },
    {
      "cell_type": "code",
      "execution_count": null,
      "metadata": {
        "id": "gHUYfmI2I88R"
      },
      "outputs": [],
      "source": [
        "from skopt import forest_minimize, gp_minimize\n",
        "from skopt.space import Real, Categorical, Integer\n",
        "from skopt.plots import plot_convergence\n",
        "from skopt.plots import plot_objective, plot_evaluations\n",
        "from skopt.utils import use_named_args"
      ]
    },
    {
      "cell_type": "markdown",
      "metadata": {
        "id": "NfTnNCeZJs9f"
      },
      "source": [
        "#### Data preparations"
      ]
    },
    {
      "cell_type": "code",
      "execution_count": null,
      "metadata": {
        "colab": {
          "base_uri": "https://localhost:8080/"
        },
        "id": "P2LS16MDJoOP",
        "outputId": "c4e1e8ba-d319-4bd8-99ec-aba93b78aaf4"
      },
      "outputs": [
        {
          "name": "stderr",
          "output_type": "stream",
          "text": [
            "/usr/local/lib/python3.10/dist-packages/sklearn/datasets/_openml.py:968: FutureWarning: The default value of `parser` will change from `'liac-arff'` to `'auto'` in 1.4. You can set `parser='auto'` to silence this warning. Therefore, an `ImportError` will be raised from 1.4 if the dataset is dense and pandas is not installed. Note that the pandas parser may return different data types. See the Notes Section in fetch_openml's API doc for details.\n",
            "  warn(\n",
            "<ipython-input-7-1059718e5a86>:12: PerformanceWarning: DataFrame is highly fragmented.  This is usually the result of calling `frame.insert` many times, which has poor performance.  Consider joining all columns at once using pd.concat(axis=1) instead. To get a de-fragmented frame, use `newframe = frame.copy()`\n",
            "  df['label'] = y\n"
          ]
        }
      ],
      "source": [
        "# Carregar o dataset MNIST usando sklearn\n",
        "mnist = fetch_openml('mnist_784', version=1)\n",
        "\n",
        "# Obter os dados e os rótulos\n",
        "X, y = mnist[\"data\"], mnist[\"target\"]\n",
        "\n",
        "# Converter os rótulos para números inteiros\n",
        "y = y.astype(int)\n",
        "\n",
        "# Combinar os dados e os rótulos em um único dataframe\n",
        "df = pd.DataFrame(X)\n",
        "df['label'] = y"
      ]
    },
    {
      "cell_type": "code",
      "execution_count": null,
      "metadata": {
        "colab": {
          "base_uri": "https://localhost:8080/",
          "height": 161
        },
        "id": "Li_0bAyZg6Xw",
        "outputId": "200e7d93-a988-4e0e-cb24-5470bb669087"
      },
      "outputs": [
        {
          "data": {
            "application/vnd.google.colaboratory.intrinsic+json": {
              "type": "dataframe",
              "variable_name": "df"
            },
            "text/html": [
              "\n",
              "  <div id=\"df-b3aa34d0-d379-411b-8f3a-e7bee1ff2097\" class=\"colab-df-container\">\n",
              "    <div>\n",
              "<style scoped>\n",
              "    .dataframe tbody tr th:only-of-type {\n",
              "        vertical-align: middle;\n",
              "    }\n",
              "\n",
              "    .dataframe tbody tr th {\n",
              "        vertical-align: top;\n",
              "    }\n",
              "\n",
              "    .dataframe thead th {\n",
              "        text-align: right;\n",
              "    }\n",
              "</style>\n",
              "<table border=\"1\" class=\"dataframe\">\n",
              "  <thead>\n",
              "    <tr style=\"text-align: right;\">\n",
              "      <th></th>\n",
              "      <th>pixel1</th>\n",
              "      <th>pixel2</th>\n",
              "      <th>pixel3</th>\n",
              "      <th>pixel4</th>\n",
              "      <th>pixel5</th>\n",
              "      <th>pixel6</th>\n",
              "      <th>pixel7</th>\n",
              "      <th>pixel8</th>\n",
              "      <th>pixel9</th>\n",
              "      <th>pixel10</th>\n",
              "      <th>...</th>\n",
              "      <th>pixel776</th>\n",
              "      <th>pixel777</th>\n",
              "      <th>pixel778</th>\n",
              "      <th>pixel779</th>\n",
              "      <th>pixel780</th>\n",
              "      <th>pixel781</th>\n",
              "      <th>pixel782</th>\n",
              "      <th>pixel783</th>\n",
              "      <th>pixel784</th>\n",
              "      <th>label</th>\n",
              "    </tr>\n",
              "  </thead>\n",
              "  <tbody>\n",
              "    <tr>\n",
              "      <th>0</th>\n",
              "      <td>0.0</td>\n",
              "      <td>0.0</td>\n",
              "      <td>0.0</td>\n",
              "      <td>0.0</td>\n",
              "      <td>0.0</td>\n",
              "      <td>0.0</td>\n",
              "      <td>0.0</td>\n",
              "      <td>0.0</td>\n",
              "      <td>0.0</td>\n",
              "      <td>0.0</td>\n",
              "      <td>...</td>\n",
              "      <td>0.0</td>\n",
              "      <td>0.0</td>\n",
              "      <td>0.0</td>\n",
              "      <td>0.0</td>\n",
              "      <td>0.0</td>\n",
              "      <td>0.0</td>\n",
              "      <td>0.0</td>\n",
              "      <td>0.0</td>\n",
              "      <td>0.0</td>\n",
              "      <td>5</td>\n",
              "    </tr>\n",
              "    <tr>\n",
              "      <th>1</th>\n",
              "      <td>0.0</td>\n",
              "      <td>0.0</td>\n",
              "      <td>0.0</td>\n",
              "      <td>0.0</td>\n",
              "      <td>0.0</td>\n",
              "      <td>0.0</td>\n",
              "      <td>0.0</td>\n",
              "      <td>0.0</td>\n",
              "      <td>0.0</td>\n",
              "      <td>0.0</td>\n",
              "      <td>...</td>\n",
              "      <td>0.0</td>\n",
              "      <td>0.0</td>\n",
              "      <td>0.0</td>\n",
              "      <td>0.0</td>\n",
              "      <td>0.0</td>\n",
              "      <td>0.0</td>\n",
              "      <td>0.0</td>\n",
              "      <td>0.0</td>\n",
              "      <td>0.0</td>\n",
              "      <td>0</td>\n",
              "    </tr>\n",
              "  </tbody>\n",
              "</table>\n",
              "<p>2 rows × 785 columns</p>\n",
              "</div>\n",
              "    <div class=\"colab-df-buttons\">\n",
              "\n",
              "  <div class=\"colab-df-container\">\n",
              "    <button class=\"colab-df-convert\" onclick=\"convertToInteractive('df-b3aa34d0-d379-411b-8f3a-e7bee1ff2097')\"\n",
              "            title=\"Convert this dataframe to an interactive table.\"\n",
              "            style=\"display:none;\">\n",
              "\n",
              "  <svg xmlns=\"http://www.w3.org/2000/svg\" height=\"24px\" viewBox=\"0 -960 960 960\">\n",
              "    <path d=\"M120-120v-720h720v720H120Zm60-500h600v-160H180v160Zm220 220h160v-160H400v160Zm0 220h160v-160H400v160ZM180-400h160v-160H180v160Zm440 0h160v-160H620v160ZM180-180h160v-160H180v160Zm440 0h160v-160H620v160Z\"/>\n",
              "  </svg>\n",
              "    </button>\n",
              "\n",
              "  <style>\n",
              "    .colab-df-container {\n",
              "      display:flex;\n",
              "      gap: 12px;\n",
              "    }\n",
              "\n",
              "    .colab-df-convert {\n",
              "      background-color: #E8F0FE;\n",
              "      border: none;\n",
              "      border-radius: 50%;\n",
              "      cursor: pointer;\n",
              "      display: none;\n",
              "      fill: #1967D2;\n",
              "      height: 32px;\n",
              "      padding: 0 0 0 0;\n",
              "      width: 32px;\n",
              "    }\n",
              "\n",
              "    .colab-df-convert:hover {\n",
              "      background-color: #E2EBFA;\n",
              "      box-shadow: 0px 1px 2px rgba(60, 64, 67, 0.3), 0px 1px 3px 1px rgba(60, 64, 67, 0.15);\n",
              "      fill: #174EA6;\n",
              "    }\n",
              "\n",
              "    .colab-df-buttons div {\n",
              "      margin-bottom: 4px;\n",
              "    }\n",
              "\n",
              "    [theme=dark] .colab-df-convert {\n",
              "      background-color: #3B4455;\n",
              "      fill: #D2E3FC;\n",
              "    }\n",
              "\n",
              "    [theme=dark] .colab-df-convert:hover {\n",
              "      background-color: #434B5C;\n",
              "      box-shadow: 0px 1px 3px 1px rgba(0, 0, 0, 0.15);\n",
              "      filter: drop-shadow(0px 1px 2px rgba(0, 0, 0, 0.3));\n",
              "      fill: #FFFFFF;\n",
              "    }\n",
              "  </style>\n",
              "\n",
              "    <script>\n",
              "      const buttonEl =\n",
              "        document.querySelector('#df-b3aa34d0-d379-411b-8f3a-e7bee1ff2097 button.colab-df-convert');\n",
              "      buttonEl.style.display =\n",
              "        google.colab.kernel.accessAllowed ? 'block' : 'none';\n",
              "\n",
              "      async function convertToInteractive(key) {\n",
              "        const element = document.querySelector('#df-b3aa34d0-d379-411b-8f3a-e7bee1ff2097');\n",
              "        const dataTable =\n",
              "          await google.colab.kernel.invokeFunction('convertToInteractive',\n",
              "                                                    [key], {});\n",
              "        if (!dataTable) return;\n",
              "\n",
              "        const docLinkHtml = 'Like what you see? Visit the ' +\n",
              "          '<a target=\"_blank\" href=https://colab.research.google.com/notebooks/data_table.ipynb>data table notebook</a>'\n",
              "          + ' to learn more about interactive tables.';\n",
              "        element.innerHTML = '';\n",
              "        dataTable['output_type'] = 'display_data';\n",
              "        await google.colab.output.renderOutput(dataTable, element);\n",
              "        const docLink = document.createElement('div');\n",
              "        docLink.innerHTML = docLinkHtml;\n",
              "        element.appendChild(docLink);\n",
              "      }\n",
              "    </script>\n",
              "  </div>\n",
              "\n",
              "\n",
              "<div id=\"df-8a9830e5-5177-4b20-988e-91ce7f41c7b9\">\n",
              "  <button class=\"colab-df-quickchart\" onclick=\"quickchart('df-8a9830e5-5177-4b20-988e-91ce7f41c7b9')\"\n",
              "            title=\"Suggest charts\"\n",
              "            style=\"display:none;\">\n",
              "\n",
              "<svg xmlns=\"http://www.w3.org/2000/svg\" height=\"24px\"viewBox=\"0 0 24 24\"\n",
              "     width=\"24px\">\n",
              "    <g>\n",
              "        <path d=\"M19 3H5c-1.1 0-2 .9-2 2v14c0 1.1.9 2 2 2h14c1.1 0 2-.9 2-2V5c0-1.1-.9-2-2-2zM9 17H7v-7h2v7zm4 0h-2V7h2v10zm4 0h-2v-4h2v4z\"/>\n",
              "    </g>\n",
              "</svg>\n",
              "  </button>\n",
              "\n",
              "<style>\n",
              "  .colab-df-quickchart {\n",
              "      --bg-color: #E8F0FE;\n",
              "      --fill-color: #1967D2;\n",
              "      --hover-bg-color: #E2EBFA;\n",
              "      --hover-fill-color: #174EA6;\n",
              "      --disabled-fill-color: #AAA;\n",
              "      --disabled-bg-color: #DDD;\n",
              "  }\n",
              "\n",
              "  [theme=dark] .colab-df-quickchart {\n",
              "      --bg-color: #3B4455;\n",
              "      --fill-color: #D2E3FC;\n",
              "      --hover-bg-color: #434B5C;\n",
              "      --hover-fill-color: #FFFFFF;\n",
              "      --disabled-bg-color: #3B4455;\n",
              "      --disabled-fill-color: #666;\n",
              "  }\n",
              "\n",
              "  .colab-df-quickchart {\n",
              "    background-color: var(--bg-color);\n",
              "    border: none;\n",
              "    border-radius: 50%;\n",
              "    cursor: pointer;\n",
              "    display: none;\n",
              "    fill: var(--fill-color);\n",
              "    height: 32px;\n",
              "    padding: 0;\n",
              "    width: 32px;\n",
              "  }\n",
              "\n",
              "  .colab-df-quickchart:hover {\n",
              "    background-color: var(--hover-bg-color);\n",
              "    box-shadow: 0 1px 2px rgba(60, 64, 67, 0.3), 0 1px 3px 1px rgba(60, 64, 67, 0.15);\n",
              "    fill: var(--button-hover-fill-color);\n",
              "  }\n",
              "\n",
              "  .colab-df-quickchart-complete:disabled,\n",
              "  .colab-df-quickchart-complete:disabled:hover {\n",
              "    background-color: var(--disabled-bg-color);\n",
              "    fill: var(--disabled-fill-color);\n",
              "    box-shadow: none;\n",
              "  }\n",
              "\n",
              "  .colab-df-spinner {\n",
              "    border: 2px solid var(--fill-color);\n",
              "    border-color: transparent;\n",
              "    border-bottom-color: var(--fill-color);\n",
              "    animation:\n",
              "      spin 1s steps(1) infinite;\n",
              "  }\n",
              "\n",
              "  @keyframes spin {\n",
              "    0% {\n",
              "      border-color: transparent;\n",
              "      border-bottom-color: var(--fill-color);\n",
              "      border-left-color: var(--fill-color);\n",
              "    }\n",
              "    20% {\n",
              "      border-color: transparent;\n",
              "      border-left-color: var(--fill-color);\n",
              "      border-top-color: var(--fill-color);\n",
              "    }\n",
              "    30% {\n",
              "      border-color: transparent;\n",
              "      border-left-color: var(--fill-color);\n",
              "      border-top-color: var(--fill-color);\n",
              "      border-right-color: var(--fill-color);\n",
              "    }\n",
              "    40% {\n",
              "      border-color: transparent;\n",
              "      border-right-color: var(--fill-color);\n",
              "      border-top-color: var(--fill-color);\n",
              "    }\n",
              "    60% {\n",
              "      border-color: transparent;\n",
              "      border-right-color: var(--fill-color);\n",
              "    }\n",
              "    80% {\n",
              "      border-color: transparent;\n",
              "      border-right-color: var(--fill-color);\n",
              "      border-bottom-color: var(--fill-color);\n",
              "    }\n",
              "    90% {\n",
              "      border-color: transparent;\n",
              "      border-bottom-color: var(--fill-color);\n",
              "    }\n",
              "  }\n",
              "</style>\n",
              "\n",
              "  <script>\n",
              "    async function quickchart(key) {\n",
              "      const quickchartButtonEl =\n",
              "        document.querySelector('#' + key + ' button');\n",
              "      quickchartButtonEl.disabled = true;  // To prevent multiple clicks.\n",
              "      quickchartButtonEl.classList.add('colab-df-spinner');\n",
              "      try {\n",
              "        const charts = await google.colab.kernel.invokeFunction(\n",
              "            'suggestCharts', [key], {});\n",
              "      } catch (error) {\n",
              "        console.error('Error during call to suggestCharts:', error);\n",
              "      }\n",
              "      quickchartButtonEl.classList.remove('colab-df-spinner');\n",
              "      quickchartButtonEl.classList.add('colab-df-quickchart-complete');\n",
              "    }\n",
              "    (() => {\n",
              "      let quickchartButtonEl =\n",
              "        document.querySelector('#df-8a9830e5-5177-4b20-988e-91ce7f41c7b9 button');\n",
              "      quickchartButtonEl.style.display =\n",
              "        google.colab.kernel.accessAllowed ? 'block' : 'none';\n",
              "    })();\n",
              "  </script>\n",
              "</div>\n",
              "\n",
              "    </div>\n",
              "  </div>\n"
            ],
            "text/plain": [
              "   pixel1  pixel2  pixel3  pixel4  pixel5  pixel6  pixel7  pixel8  pixel9  \\\n",
              "0     0.0     0.0     0.0     0.0     0.0     0.0     0.0     0.0     0.0   \n",
              "1     0.0     0.0     0.0     0.0     0.0     0.0     0.0     0.0     0.0   \n",
              "\n",
              "   pixel10  ...  pixel776  pixel777  pixel778  pixel779  pixel780  pixel781  \\\n",
              "0      0.0  ...       0.0       0.0       0.0       0.0       0.0       0.0   \n",
              "1      0.0  ...       0.0       0.0       0.0       0.0       0.0       0.0   \n",
              "\n",
              "   pixel782  pixel783  pixel784  label  \n",
              "0       0.0       0.0       0.0      5  \n",
              "1       0.0       0.0       0.0      0  \n",
              "\n",
              "[2 rows x 785 columns]"
            ]
          },
          "execution_count": 8,
          "metadata": {},
          "output_type": "execute_result"
        }
      ],
      "source": [
        "df.head(2)"
      ]
    },
    {
      "cell_type": "code",
      "execution_count": null,
      "metadata": {
        "colab": {
          "base_uri": "https://localhost:8080/"
        },
        "id": "8NXlH1NYg9ZI",
        "outputId": "d1846e26-ff0d-4285-bcb9-a9a1f3a62b38"
      },
      "outputs": [
        {
          "data": {
            "text/plain": [
              "((63000, 784), (7000, 784))"
            ]
          },
          "execution_count": 9,
          "metadata": {},
          "output_type": "execute_result"
        }
      ],
      "source": [
        "X_train, X_test, y_train, y_test = train_test_split(\n",
        "    df.drop(['label'], axis=1),\n",
        "    df['label'],\n",
        "    test_size=0.1,\n",
        "    random_state=42\n",
        ")\n",
        "\n",
        "X_train.shape, X_test.shape"
      ]
    },
    {
      "cell_type": "code",
      "execution_count": null,
      "metadata": {
        "colab": {
          "base_uri": "https://localhost:8080/",
          "height": 466
        },
        "id": "BhdmcPl1g9Us",
        "outputId": "71590912-e720-4a96-b3b7-0cb854126135"
      },
      "outputs": [
        {
          "data": {
            "text/plain": [
              "Text(0, 0.5, 'Number of images')"
            ]
          },
          "execution_count": 10,
          "metadata": {},
          "output_type": "execute_result"
        },
        {
          "data": {
            "image/png": "[encoded data removed]",
            "text/plain": [
              "<Figure size 640x480 with 1 Axes>"
            ]
          },
          "metadata": {},
          "output_type": "display_data"
        }
      ],
      "source": [
        "g = sns.countplot(x=y_train)\n",
        "plt.xlabel('Digits')\n",
        "plt.ylabel('Number of images')"
      ]
    },
    {
      "cell_type": "markdown",
      "metadata": {
        "id": "xamRxpdch3dW"
      },
      "source": [
        "#### Image re-scaling"
      ]
    },
    {
      "cell_type": "code",
      "execution_count": null,
      "metadata": {
        "id": "NwjNI5J8htuF"
      },
      "outputs": [],
      "source": [
        "X_train = X_train / 255\n",
        "X_test = X_test / 255"
      ]
    },
    {
      "cell_type": "markdown",
      "metadata": {
        "id": "_KteV7JEiKrO"
      },
      "source": [
        "#### Reshape"
      ]
    },
    {
      "cell_type": "code",
      "execution_count": null,
      "metadata": {
        "id": "85jOUrWPhtqq"
      },
      "outputs": [],
      "source": [
        "X_train = X_train.values.reshape(-1, 28, 28, 1)\n",
        "X_test = X_test.values.reshape(-1, 28, 28, 1)"
      ]
    },
    {
      "cell_type": "markdown",
      "metadata": {
        "id": "vYUDvWL5ixHw"
      },
      "source": [
        "#### Target encoding"
      ]
    },
    {
      "cell_type": "code",
      "execution_count": null,
      "metadata": {
        "colab": {
          "base_uri": "https://localhost:8080/"
        },
        "id": "LUXF7hi-i_3v",
        "outputId": "908c8124-b3e0-44cc-86c5-66e34a2cff4b"
      },
      "outputs": [
        {
          "data": {
            "text/plain": [
              "42878    8\n",
              "5946     7\n",
              "33058    6\n",
              "34692    5\n",
              "59232    4\n",
              "        ..\n",
              "37194    6\n",
              "6265     6\n",
              "54886    1\n",
              "860      0\n",
              "15795    0\n",
              "Name: label, Length: 63000, dtype: int64"
            ]
          },
          "execution_count": 13,
          "metadata": {},
          "output_type": "execute_result"
        }
      ],
      "source": [
        "y_train"
      ]
    },
    {
      "cell_type": "code",
      "execution_count": null,
      "metadata": {
        "id": "Oyr9zSG8htnY"
      },
      "outputs": [],
      "source": [
        "y_train = to_categorical(y_train, num_classes = 10)\n",
        "y_test = to_categorical(y_test, num_classes = 10)"
      ]
    },
    {
      "cell_type": "code",
      "execution_count": null,
      "metadata": {
        "colab": {
          "base_uri": "https://localhost:8080/"
        },
        "id": "dD0ZIWXvg9R8",
        "outputId": "ba9fa8d7-abf9-43de-9dff-6ea09292ef68"
      },
      "outputs": [
        {
          "data": {
            "text/plain": [
              "array([[0., 0., 0., ..., 0., 1., 0.],\n",
              "       [0., 0., 0., ..., 1., 0., 0.],\n",
              "       [0., 0., 0., ..., 0., 0., 0.],\n",
              "       ...,\n",
              "       [0., 1., 0., ..., 0., 0., 0.],\n",
              "       [1., 0., 0., ..., 0., 0., 0.],\n",
              "       [1., 0., 0., ..., 0., 0., 0.]], dtype=float32)"
            ]
          },
          "execution_count": 15,
          "metadata": {},
          "output_type": "execute_result"
        }
      ],
      "source": [
        "y_train"
      ]
    },
    {
      "cell_type": "code",
      "execution_count": null,
      "metadata": {
        "colab": {
          "base_uri": "https://localhost:8080/",
          "height": 430
        },
        "id": "MunTAD3gjDiG",
        "outputId": "d9a4e360-8ebd-4ca9-e5ee-54df4e97ab98"
      },
      "outputs": [
        {
          "data": {
            "image/png": "[encoded data removed]",
            "text/plain": [
              "<Figure size 640x480 with 1 Axes>"
            ]
          },
          "metadata": {},
          "output_type": "display_data"
        }
      ],
      "source": [
        "g = plt.imshow(X_train[0][:,:,0])"
      ]
    },
    {
      "cell_type": "markdown",
      "metadata": {
        "id": "oH96vTJljUqm"
      },
      "source": [
        "#### Define the CNN"
      ]
    },
    {
      "cell_type": "code",
      "execution_count": null,
      "metadata": {
        "id": "AY3ev2z9jDdz"
      },
      "outputs": [],
      "source": [
        "def create_cnn(\n",
        "    learning_rate,\n",
        "    num_dense_layers,\n",
        "    num_dense_nodes,\n",
        "    activation\n",
        "):\n",
        "\n",
        "  model = Sequential()\n",
        "\n",
        "  model.add(Conv2D(kernel_size=5, strides=1, filters=16, padding='same',\n",
        "                  activation=activation, name='layer_conv1'))\n",
        "  model.add(MaxPool2D(pool_size=2, strides=2))\n",
        "\n",
        "  model.add(Conv2D(kernel_size=5, strides=1, filters=36, padding='same',\n",
        "                  activation=activation, name='layer_conv2'))\n",
        "  model.add(MaxPool2D(pool_size=2, strides=2))\n",
        "\n",
        "  model.add(Flatten())\n",
        "\n",
        "  for i in range(num_dense_layers):\n",
        "\n",
        "    model.add(Dense(num_dense_nodes,\n",
        "                    activation=activation))\n",
        "\n",
        "  model.add(Dense(10, activation='softmax'))\n",
        "\n",
        "  optimizer = Adam(lr=learning_rate)\n",
        "\n",
        "  model.compile(optimizer=optimizer,\n",
        "                loss='categorical_crossentropy',\n",
        "                metrics=['accuracy'])\n",
        "\n",
        "  return model"
      ]
    },
    {
      "cell_type": "markdown",
      "metadata": {
        "id": "ZiBo1R-aOAOB"
      },
      "source": [
        "#### Define the hyperparameter space"
      ]
    },
    {
      "cell_type": "code",
      "execution_count": null,
      "metadata": {
        "id": "UppR4qc3jDae"
      },
      "outputs": [],
      "source": [
        "dim_learning_rate = Real(low=1e-6, high=1e-2, prior='log-uniform', name='learning_rate')\n",
        "\n",
        "dim_num_dense_layers = Integer(low=5, high=512, name='num_dense_layers')\n",
        "\n",
        "dim_num_dense_nodes = Integer(low=5, high=512, name='num_dense_nodes')\n",
        "\n",
        "dim_activation = Categorical(categories=['relu', 'sigmoid'], name='activation')"
      ]
    },
    {
      "cell_type": "code",
      "execution_count": null,
      "metadata": {
        "id": "n8mlfPRKU8gH"
      },
      "outputs": [],
      "source": [
        "param_grid = [dim_learning_rate,\n",
        "              dim_num_dense_layers,\n",
        "              dim_num_dense_nodes,\n",
        "              dim_activation]"
      ]
    },
    {
      "cell_type": "markdown",
      "metadata": {
        "id": "_L31wIMeO8Hc"
      },
      "source": [
        "#### Define the objective function"
      ]
    },
    {
      "cell_type": "code",
      "execution_count": null,
      "metadata": {
        "id": "We28OJ9UOtGg"
      },
      "outputs": [],
      "source": [
        "path_best_model = 'cnn_model.h5'\n",
        "\n",
        "best_accuracy = 0"
      ]
    },
    {
      "cell_type": "code",
      "execution_count": null,
      "metadata": {
        "id": "kYX6aAFrPIAq"
      },
      "outputs": [],
      "source": [
        "@use_named_args(param_grid)\n",
        "def objective(learning_rate, num_dense_layers, num_dense_nodes, activation):\n",
        "\n",
        "  print('learning rate: {0:.1e}'.format(learning_rate))\n",
        "  print('num_dense_layers:', num_dense_layers)\n",
        "  print('num_dense_nodes:', num_dense_nodes )\n",
        "  print('activation: ', activation)\n",
        "  print()\n",
        "\n",
        "  model = create_cnn(learning_rate=learning_rate,\n",
        "                     num_dense_layers=num_dense_layers,\n",
        "                     num_dense_nodes=num_dense_nodes,\n",
        "                     activation=activation)\n",
        "\n",
        "  learning_rate_reduction = ReduceLROnPlateau(monitor='val_accuracy',\n",
        "                                              patience=2,\n",
        "                                              verbose=1,\n",
        "                                              factor=0.5,\n",
        "                                              min_lr=0.00001)\n",
        "\n",
        "  history = model.fit(x=X_train,\n",
        "                      y=y_train,\n",
        "                      epochs=3,\n",
        "                      batch_size=128,\n",
        "                      validation_split=0.1,\n",
        "                      callbacks=learning_rate_reduction)\n",
        "\n",
        "  accuracy = history.history['val_accuracy'][-1]\n",
        "\n",
        "  print()\n",
        "  print('Accuracy: {0:.2%}'.format(accuracy))\n",
        "  print()\n",
        "\n",
        "  global best_accuracy\n",
        "\n",
        "  if accuracy > best_accuracy:\n",
        "\n",
        "    model.save(path_best_model)\n",
        "\n",
        "    best_accuracy = accuracy\n",
        "\n",
        "  del model\n",
        "\n",
        "  return -accuracy"
      ]
    },
    {
      "cell_type": "markdown",
      "metadata": {
        "id": "iwgpLhofVLwG"
      },
      "source": [
        "#### Test run"
      ]
    },
    {
      "cell_type": "code",
      "execution_count": null,
      "metadata": {
        "colab": {
          "base_uri": "https://localhost:8080/"
        },
        "id": "Kr24AWm9SxD-",
        "outputId": "33e967dd-ed53-45d5-a41e-15e8c980f6ff"
      },
      "outputs": [
        {
          "name": "stderr",
          "output_type": "stream",
          "text": [
            "WARNING:absl:`lr` is deprecated in Keras optimizer, please use `learning_rate` or use the legacy optimizer, e.g.,tf.keras.optimizers.legacy.Adam.\n"
          ]
        },
        {
          "name": "stdout",
          "output_type": "stream",
          "text": [
            "learning rate: 1.0e-05\n",
            "num_dense_layers: 1\n",
            "num_dense_nodes: 16\n",
            "activation:  relu\n",
            "\n",
            "Epoch 1/3\n",
            "443/443 [==============================] - 61s 136ms/step - loss: 0.3491 - accuracy: 0.8932 - val_loss: 0.1139 - val_accuracy: 0.9662 - lr: 0.0010\n",
            "Epoch 2/3\n",
            "443/443 [==============================] - 61s 138ms/step - loss: 0.0881 - accuracy: 0.9733 - val_loss: 0.0729 - val_accuracy: 0.9768 - lr: 0.0010\n",
            "Epoch 3/3\n",
            "443/443 [==============================] - 60s 135ms/step - loss: 0.0615 - accuracy: 0.9811 - val_loss: 0.0540 - val_accuracy: 0.9827 - lr: 0.0010\n",
            "\n",
            "Accuracy: 98.27%\n",
            "\n"
          ]
        },
        {
          "name": "stderr",
          "output_type": "stream",
          "text": [
            "/usr/local/lib/python3.10/dist-packages/keras/src/engine/training.py:3103: UserWarning: You are saving your model as an HDF5 file via `model.save()`. This file format is considered legacy. We recommend using instead the native Keras format, e.g. `model.save('my_model.keras')`.\n",
            "  saving_api.save_model(\n"
          ]
        },
        {
          "data": {
            "text/plain": [
              "-0.9826984405517578"
            ]
          },
          "execution_count": 22,
          "metadata": {},
          "output_type": "execute_result"
        }
      ],
      "source": [
        "default_parameters = [1e-5, 1, 16, 'relu']\n",
        "objective(x=default_parameters)"
      ]
    },
    {
      "cell_type": "code",
      "execution_count": null,
      "metadata": {
        "id": "YbZSXRUxYlyM"
      },
      "outputs": [],
      "source": [
        "\n",
        "def objective(params):\n",
        "  learning_rate, num_dense_layers, num_dense_nodes, activation = params\n",
        "\n",
        "\n",
        "  print('learning rate: {0:.1e}'.format(learning_rate))\n",
        "  print('num_dense_layers:', num_dense_layers)\n",
        "  print('num_dense_nodes:', num_dense_nodes )\n",
        "  print('activation: ', activation)\n",
        "  print()\n",
        "\n",
        "  model = create_cnn(learning_rate=learning_rate,\n",
        "                     num_dense_layers=num_dense_layers,\n",
        "                     num_dense_nodes=num_dense_nodes,\n",
        "                     activation=activation)\n",
        "\n",
        "  learning_rate_reduction = ReduceLROnPlateau(monitor='val_accuracy',\n",
        "                                              patience=2,\n",
        "                                              verbose=1,\n",
        "                                              factor=0.5,\n",
        "                                              min_lr=0.00001)\n",
        "\n",
        "  history = model.fit(x=X_train,\n",
        "                      y=y_train,\n",
        "                      epochs=3,\n",
        "                      batch_size=128,\n",
        "                      validation_split=0.1,\n",
        "                      callbacks=learning_rate_reduction)\n",
        "\n",
        "  accuracy = history.history['val_accuracy'][-1]\n",
        "\n",
        "  print()\n",
        "  print('Accuracy: {0:.2%}'.format(accuracy))\n",
        "  print()\n",
        "\n",
        "  global best_accuracy\n",
        "\n",
        "  if accuracy > best_accuracy:\n",
        "\n",
        "    model.save(path_best_model)\n",
        "\n",
        "    best_accuracy = accuracy\n",
        "\n",
        "  del model\n",
        "\n",
        "  return -accuracy"
      ]
    },
    {
      "cell_type": "markdown",
      "metadata": {
        "id": "mQT-CxwuV2xP"
      },
      "source": [
        "#### Bayesian Optimization"
      ]
    },
    {
      "cell_type": "code",
      "execution_count": null,
      "metadata": {
        "colab": {
          "background_save": true,
          "base_uri": "https://localhost:8080/"
        },
        "id": "mKqSXhpjV2Ou",
        "outputId": "743bccd5-77d1-48c0-d801-b9bb4df7901f"
      },
      "outputs": [
        {
          "name": "stderr",
          "output_type": "stream",
          "text": [
            "WARNING:absl:`lr` is deprecated in Keras optimizer, please use `learning_rate` or use the legacy optimizer, e.g.,tf.keras.optimizers.legacy.Adam.\n"
          ]
        },
        {
          "name": "stdout",
          "output_type": "stream",
          "text": [
            "learning rate: 1.0e-05\n",
            "num_dense_layers: 1\n",
            "num_dense_nodes: 16\n",
            "activation:  relu\n",
            "\n",
            "Epoch 1/3\n",
            "443/443 [==============================] - 62s 137ms/step - loss: 0.3136 - accuracy: 0.9032 - val_loss: 0.0917 - val_accuracy: 0.9719 - lr: 0.0010\n",
            "Epoch 2/3\n",
            "443/443 [==============================] - 60s 135ms/step - loss: 0.0746 - accuracy: 0.9781 - val_loss: 0.0592 - val_accuracy: 0.9805 - lr: 0.0010\n",
            "Epoch 3/3\n",
            "443/443 [==============================] - 61s 137ms/step - loss: 0.0527 - accuracy: 0.9841 - val_loss: 0.0470 - val_accuracy: 0.9843 - lr: 0.0010\n"
          ]
        },
        {
          "name": "stderr",
          "output_type": "stream",
          "text": [
            "/usr/local/lib/python3.10/dist-packages/keras/src/engine/training.py:3103: UserWarning: You are saving your model as an HDF5 file via `model.save()`. This file format is considered legacy. We recommend using instead the native Keras format, e.g. `model.save('my_model.keras')`.\n",
            "  saving_api.save_model(\n",
            "WARNING:absl:`lr` is deprecated in Keras optimizer, please use `learning_rate` or use the legacy optimizer, e.g.,tf.keras.optimizers.legacy.Adam.\n"
          ]
        },
        {
          "name": "stdout",
          "output_type": "stream",
          "text": [
            "\n",
            "Accuracy: 98.43%\n",
            "\n",
            "learning rate: 8.0e-04\n",
            "num_dense_layers: 1\n",
            "num_dense_nodes: 103\n",
            "activation:  tanh\n",
            "\n",
            "Epoch 1/3\n",
            "443/443 [==============================] - 68s 150ms/step - loss: 0.1975 - accuracy: 0.9437 - val_loss: 0.0673 - val_accuracy: 0.9792 - lr: 0.0010\n",
            "Epoch 2/3\n",
            "443/443 [==============================] - 63s 141ms/step - loss: 0.0556 - accuracy: 0.9832 - val_loss: 0.0493 - val_accuracy: 0.9841 - lr: 0.0010\n",
            "Epoch 3/3\n",
            "443/443 [==============================] - 64s 144ms/step - loss: 0.0378 - accuracy: 0.9888 - val_loss: 0.0424 - val_accuracy: 0.9867 - lr: 0.0010\n"
          ]
        },
        {
          "name": "stderr",
          "output_type": "stream",
          "text": [
            "WARNING:absl:`lr` is deprecated in Keras optimizer, please use `learning_rate` or use the legacy optimizer, e.g.,tf.keras.optimizers.legacy.Adam.\n"
          ]
        },
        {
          "name": "stdout",
          "output_type": "stream",
          "text": [
            "\n",
            "Accuracy: 98.67%\n",
            "\n",
            "learning rate: 4.5e-04\n",
            "num_dense_layers: 1\n",
            "num_dense_nodes: 67\n",
            "activation:  relu\n",
            "\n",
            "Epoch 1/3\n",
            "443/443 [==============================] - 63s 138ms/step - loss: 0.2523 - accuracy: 0.9243 - val_loss: 0.0692 - val_accuracy: 0.9784 - lr: 0.0010\n",
            "Epoch 2/3\n",
            "443/443 [==============================] - 60s 136ms/step - loss: 0.0636 - accuracy: 0.9803 - val_loss: 0.0494 - val_accuracy: 0.9840 - lr: 0.0010\n",
            "Epoch 3/3\n",
            "443/443 [==============================] - 63s 142ms/step - loss: 0.0444 - accuracy: 0.9867 - val_loss: 0.0437 - val_accuracy: 0.9868 - lr: 0.0010\n"
          ]
        },
        {
          "name": "stderr",
          "output_type": "stream",
          "text": [
            "WARNING:absl:`lr` is deprecated in Keras optimizer, please use `learning_rate` or use the legacy optimizer, e.g.,tf.keras.optimizers.legacy.Adam.\n"
          ]
        },
        {
          "name": "stdout",
          "output_type": "stream",
          "text": [
            "\n",
            "Accuracy: 98.68%\n",
            "\n",
            "learning rate: 1.5e-04\n",
            "num_dense_layers: 2\n",
            "num_dense_nodes: 22\n",
            "activation:  tanh\n",
            "\n",
            "Epoch 1/3\n",
            "443/443 [==============================] - 64s 142ms/step - loss: 0.3739 - accuracy: 0.9215 - val_loss: 0.1049 - val_accuracy: 0.9744 - lr: 0.0010\n",
            "Epoch 2/3\n",
            "443/443 [==============================] - 61s 138ms/step - loss: 0.0847 - accuracy: 0.9782 - val_loss: 0.0758 - val_accuracy: 0.9783 - lr: 0.0010\n",
            "Epoch 3/3\n",
            "443/443 [==============================] - 61s 138ms/step - loss: 0.0589 - accuracy: 0.9841 - val_loss: 0.0624 - val_accuracy: 0.9816 - lr: 0.0010\n"
          ]
        },
        {
          "name": "stderr",
          "output_type": "stream",
          "text": [
            "WARNING:absl:`lr` is deprecated in Keras optimizer, please use `learning_rate` or use the legacy optimizer, e.g.,tf.keras.optimizers.legacy.Adam.\n"
          ]
        },
        {
          "name": "stdout",
          "output_type": "stream",
          "text": [
            "\n",
            "Accuracy: 98.16%\n",
            "\n",
            "learning rate: 9.4e-04\n",
            "num_dense_layers: 1\n",
            "num_dense_nodes: 127\n",
            "activation:  tanh\n",
            "\n",
            "Epoch 1/3\n",
            "443/443 [==============================] - 66s 146ms/step - loss: 0.1790 - accuracy: 0.9492 - val_loss: 0.0628 - val_accuracy: 0.9794 - lr: 0.0010\n",
            "Epoch 2/3\n",
            "443/443 [==============================] - 64s 144ms/step - loss: 0.0493 - accuracy: 0.9857 - val_loss: 0.0470 - val_accuracy: 0.9848 - lr: 0.0010\n",
            "Epoch 3/3\n",
            "443/443 [==============================] - 63s 142ms/step - loss: 0.0332 - accuracy: 0.9908 - val_loss: 0.0420 - val_accuracy: 0.9886 - lr: 0.0010\n"
          ]
        },
        {
          "name": "stderr",
          "output_type": "stream",
          "text": [
            "WARNING:absl:`lr` is deprecated in Keras optimizer, please use `learning_rate` or use the legacy optimizer, e.g.,tf.keras.optimizers.legacy.Adam.\n"
          ]
        },
        {
          "name": "stdout",
          "output_type": "stream",
          "text": [
            "\n",
            "Accuracy: 98.86%\n",
            "\n",
            "learning rate: 6.2e-04\n",
            "num_dense_layers: 1\n",
            "num_dense_nodes: 19\n",
            "activation:  tanh\n",
            "\n",
            "Epoch 1/3\n",
            "443/443 [==============================] - 64s 141ms/step - loss: 0.3263 - accuracy: 0.9254 - val_loss: 0.1067 - val_accuracy: 0.9744 - lr: 0.0010\n",
            "Epoch 2/3\n",
            "443/443 [==============================] - 62s 140ms/step - loss: 0.0818 - accuracy: 0.9798 - val_loss: 0.0663 - val_accuracy: 0.9808 - lr: 0.0010\n",
            "Epoch 3/3\n",
            "443/443 [==============================] - 62s 140ms/step - loss: 0.0558 - accuracy: 0.9852 - val_loss: 0.0604 - val_accuracy: 0.9819 - lr: 0.0010\n"
          ]
        },
        {
          "name": "stderr",
          "output_type": "stream",
          "text": [
            "WARNING:absl:`lr` is deprecated in Keras optimizer, please use `learning_rate` or use the legacy optimizer, e.g.,tf.keras.optimizers.legacy.Adam.\n"
          ]
        },
        {
          "name": "stdout",
          "output_type": "stream",
          "text": [
            "\n",
            "Accuracy: 98.19%\n",
            "\n",
            "learning rate: 4.1e-04\n",
            "num_dense_layers: 1\n",
            "num_dense_nodes: 125\n",
            "activation:  relu\n",
            "\n",
            "Epoch 1/3\n",
            "443/443 [==============================] - 62s 137ms/step - loss: 0.2179 - accuracy: 0.9360 - val_loss: 0.0666 - val_accuracy: 0.9775 - lr: 0.0010\n",
            "Epoch 2/3\n",
            "443/443 [==============================] - 62s 139ms/step - loss: 0.0599 - accuracy: 0.9817 - val_loss: 0.0452 - val_accuracy: 0.9856 - lr: 0.0010\n",
            "Epoch 3/3\n",
            "443/443 [==============================] - 61s 137ms/step - loss: 0.0419 - accuracy: 0.9869 - val_loss: 0.0421 - val_accuracy: 0.9873 - lr: 0.0010\n"
          ]
        },
        {
          "name": "stderr",
          "output_type": "stream",
          "text": [
            "WARNING:absl:`lr` is deprecated in Keras optimizer, please use `learning_rate` or use the legacy optimizer, e.g.,tf.keras.optimizers.legacy.Adam.\n"
          ]
        },
        {
          "name": "stdout",
          "output_type": "stream",
          "text": [
            "\n",
            "Accuracy: 98.73%\n",
            "\n",
            "learning rate: 1.0e-04\n",
            "num_dense_layers: 2\n",
            "num_dense_nodes: 59\n",
            "activation:  tanh\n",
            "\n",
            "Epoch 1/3\n",
            "443/443 [==============================] - 63s 138ms/step - loss: 0.2133 - accuracy: 0.9435 - val_loss: 0.0724 - val_accuracy: 0.9797 - lr: 0.0010\n",
            "Epoch 2/3\n",
            "443/443 [==============================] - 61s 138ms/step - loss: 0.0545 - accuracy: 0.9836 - val_loss: 0.0463 - val_accuracy: 0.9848 - lr: 0.0010\n",
            "Epoch 3/3\n",
            "443/443 [==============================] - 62s 139ms/step - loss: 0.0380 - accuracy: 0.9887 - val_loss: 0.0496 - val_accuracy: 0.9832 - lr: 0.0010\n"
          ]
        },
        {
          "name": "stderr",
          "output_type": "stream",
          "text": [
            "WARNING:absl:`lr` is deprecated in Keras optimizer, please use `learning_rate` or use the legacy optimizer, e.g.,tf.keras.optimizers.legacy.Adam.\n"
          ]
        },
        {
          "name": "stdout",
          "output_type": "stream",
          "text": [
            "\n",
            "Accuracy: 98.32%\n",
            "\n",
            "learning rate: 4.7e-04\n",
            "num_dense_layers: 3\n",
            "num_dense_nodes: 92\n",
            "activation:  relu\n",
            "\n",
            "Epoch 1/3\n",
            "443/443 [==============================] - 66s 147ms/step - loss: 0.2587 - accuracy: 0.9176 - val_loss: 0.0810 - val_accuracy: 0.9746 - lr: 0.0010\n",
            "Epoch 2/3\n",
            "443/443 [==============================] - 61s 138ms/step - loss: 0.0615 - accuracy: 0.9812 - val_loss: 0.0511 - val_accuracy: 0.9840 - lr: 0.0010\n",
            "Epoch 3/3\n",
            "443/443 [==============================] - 62s 141ms/step - loss: 0.0432 - accuracy: 0.9867 - val_loss: 0.0501 - val_accuracy: 0.9832 - lr: 0.0010\n"
          ]
        },
        {
          "name": "stderr",
          "output_type": "stream",
          "text": [
            "WARNING:absl:`lr` is deprecated in Keras optimizer, please use `learning_rate` or use the legacy optimizer, e.g.,tf.keras.optimizers.legacy.Adam.\n"
          ]
        },
        {
          "name": "stdout",
          "output_type": "stream",
          "text": [
            "\n",
            "Accuracy: 98.32%\n",
            "\n",
            "learning rate: 2.3e-05\n",
            "num_dense_layers: 3\n",
            "num_dense_nodes: 79\n",
            "activation:  relu\n",
            "\n",
            "Epoch 1/3\n",
            "443/443 [==============================] - 63s 139ms/step - loss: 0.2703 - accuracy: 0.9164 - val_loss: 0.0773 - val_accuracy: 0.9768 - lr: 0.0010\n",
            "Epoch 2/3\n",
            "443/443 [==============================] - 61s 137ms/step - loss: 0.0634 - accuracy: 0.9808 - val_loss: 0.0457 - val_accuracy: 0.9856 - lr: 0.0010\n",
            "Epoch 3/3\n",
            "443/443 [==============================] - 60s 136ms/step - loss: 0.0441 - accuracy: 0.9866 - val_loss: 0.0463 - val_accuracy: 0.9848 - lr: 0.0010\n"
          ]
        },
        {
          "name": "stderr",
          "output_type": "stream",
          "text": [
            "WARNING:absl:`lr` is deprecated in Keras optimizer, please use `learning_rate` or use the legacy optimizer, e.g.,tf.keras.optimizers.legacy.Adam.\n"
          ]
        },
        {
          "name": "stdout",
          "output_type": "stream",
          "text": [
            "\n",
            "Accuracy: 98.48%\n",
            "\n",
            "learning rate: 2.6e-05\n",
            "num_dense_layers: 1\n",
            "num_dense_nodes: 43\n",
            "activation:  tanh\n",
            "\n",
            "Epoch 1/3\n",
            "443/443 [==============================] - 67s 146ms/step - loss: 0.2420 - accuracy: 0.9354 - val_loss: 0.0741 - val_accuracy: 0.9781 - lr: 0.0010\n",
            "Epoch 2/3\n",
            "443/443 [==============================] - 62s 139ms/step - loss: 0.0613 - accuracy: 0.9827 - val_loss: 0.0490 - val_accuracy: 0.9852 - lr: 0.0010\n",
            "Epoch 3/3\n",
            "443/443 [==============================] - 62s 140ms/step - loss: 0.0423 - accuracy: 0.9884 - val_loss: 0.0503 - val_accuracy: 0.9846 - lr: 0.0010\n",
            "\n",
            "Accuracy: 98.46%\n",
            "\n"
          ]
        },
        {
          "name": "stderr",
          "output_type": "stream",
          "text": [
            "WARNING:absl:`lr` is deprecated in Keras optimizer, please use `learning_rate` or use the legacy optimizer, e.g.,tf.keras.optimizers.legacy.Adam.\n"
          ]
        },
        {
          "name": "stdout",
          "output_type": "stream",
          "text": [
            "learning rate: 7.9e-04\n",
            "num_dense_layers: 3\n",
            "num_dense_nodes: 128\n",
            "activation:  tanh\n",
            "\n",
            "Epoch 1/3\n",
            "443/443 [==============================] - 65s 143ms/step - loss: 0.1757 - accuracy: 0.9495 - val_loss: 0.0652 - val_accuracy: 0.9797 - lr: 0.0010\n",
            "Epoch 2/3\n",
            "443/443 [==============================] - 64s 145ms/step - loss: 0.0499 - accuracy: 0.9854 - val_loss: 0.0552 - val_accuracy: 0.9840 - lr: 0.0010\n",
            "Epoch 3/3\n",
            "443/443 [==============================] - 64s 144ms/step - loss: 0.0352 - accuracy: 0.9887 - val_loss: 0.0403 - val_accuracy: 0.9865 - lr: 0.0010\n",
            "\n",
            "Accuracy: 98.65%\n",
            "\n"
          ]
        },
        {
          "name": "stderr",
          "output_type": "stream",
          "text": [
            "WARNING:absl:`lr` is deprecated in Keras optimizer, please use `learning_rate` or use the legacy optimizer, e.g.,tf.keras.optimizers.legacy.Adam.\n"
          ]
        },
        {
          "name": "stdout",
          "output_type": "stream",
          "text": [
            "learning rate: 8.8e-04\n",
            "num_dense_layers: 3\n",
            "num_dense_nodes: 16\n",
            "activation:  relu\n",
            "\n",
            "Epoch 1/3\n",
            "443/443 [==============================] - 61s 135ms/step - loss: 0.4617 - accuracy: 0.8473 - val_loss: 0.1391 - val_accuracy: 0.9616 - lr: 0.0010\n",
            "Epoch 2/3\n",
            "443/443 [==============================] - 60s 135ms/step - loss: 0.1111 - accuracy: 0.9668 - val_loss: 0.0969 - val_accuracy: 0.9705 - lr: 0.0010\n",
            "Epoch 3/3\n",
            "443/443 [==============================] - 62s 140ms/step - loss: 0.0758 - accuracy: 0.9780 - val_loss: 0.0659 - val_accuracy: 0.9806 - lr: 0.0010\n",
            "\n",
            "Accuracy: 98.06%\n",
            "\n"
          ]
        },
        {
          "name": "stderr",
          "output_type": "stream",
          "text": [
            "WARNING:absl:`lr` is deprecated in Keras optimizer, please use `learning_rate` or use the legacy optimizer, e.g.,tf.keras.optimizers.legacy.Adam.\n"
          ]
        },
        {
          "name": "stdout",
          "output_type": "stream",
          "text": [
            "learning rate: 2.7e-05\n",
            "num_dense_layers: 3\n",
            "num_dense_nodes: 128\n",
            "activation:  relu\n",
            "\n",
            "Epoch 1/3\n",
            "443/443 [==============================] - 68s 151ms/step - loss: 0.2328 - accuracy: 0.9283 - val_loss: 0.0723 - val_accuracy: 0.9768 - lr: 0.0010\n",
            "Epoch 2/3\n",
            "443/443 [==============================] - 62s 139ms/step - loss: 0.0626 - accuracy: 0.9808 - val_loss: 0.0499 - val_accuracy: 0.9837 - lr: 0.0010\n",
            "Epoch 3/3\n",
            "443/443 [==============================] - 62s 140ms/step - loss: 0.0445 - accuracy: 0.9864 - val_loss: 0.0424 - val_accuracy: 0.9865 - lr: 0.0010\n",
            "\n",
            "Accuracy: 98.65%\n",
            "\n"
          ]
        },
        {
          "name": "stderr",
          "output_type": "stream",
          "text": [
            "WARNING:absl:`lr` is deprecated in Keras optimizer, please use `learning_rate` or use the legacy optimizer, e.g.,tf.keras.optimizers.legacy.Adam.\n"
          ]
        },
        {
          "name": "stdout",
          "output_type": "stream",
          "text": [
            "learning rate: 3.0e-04\n",
            "num_dense_layers: 1\n",
            "num_dense_nodes: 128\n",
            "activation:  relu\n",
            "\n",
            "Epoch 1/3\n",
            "443/443 [==============================] - 62s 138ms/step - loss: 0.2184 - accuracy: 0.9385 - val_loss: 0.0660 - val_accuracy: 0.9786 - lr: 0.0010\n",
            "Epoch 2/3\n",
            "443/443 [==============================] - 63s 142ms/step - loss: 0.0602 - accuracy: 0.9809 - val_loss: 0.0495 - val_accuracy: 0.9843 - lr: 0.0010\n",
            "Epoch 3/3\n",
            "443/443 [==============================] - 60s 136ms/step - loss: 0.0439 - accuracy: 0.9869 - val_loss: 0.0397 - val_accuracy: 0.9873 - lr: 0.0010\n",
            "\n",
            "Accuracy: 98.73%\n",
            "\n"
          ]
        },
        {
          "name": "stderr",
          "output_type": "stream",
          "text": [
            "WARNING:absl:`lr` is deprecated in Keras optimizer, please use `learning_rate` or use the legacy optimizer, e.g.,tf.keras.optimizers.legacy.Adam.\n"
          ]
        },
        {
          "name": "stdout",
          "output_type": "stream",
          "text": [
            "learning rate: 1.2e-05\n",
            "num_dense_layers: 1\n",
            "num_dense_nodes: 125\n",
            "activation:  tanh\n",
            "\n",
            "Epoch 1/3\n",
            "443/443 [==============================] - 65s 143ms/step - loss: 0.1847 - accuracy: 0.9476 - val_loss: 0.0549 - val_accuracy: 0.9829 - lr: 0.0010\n",
            "Epoch 2/3\n",
            "443/443 [==============================] - 62s 141ms/step - loss: 0.0483 - accuracy: 0.9857 - val_loss: 0.0415 - val_accuracy: 0.9871 - lr: 0.0010\n",
            "Epoch 3/3\n",
            "443/443 [==============================] - 66s 148ms/step - loss: 0.0315 - accuracy: 0.9908 - val_loss: 0.0378 - val_accuracy: 0.9875 - lr: 0.0010\n",
            "\n",
            "Accuracy: 98.75%\n",
            "\n"
          ]
        },
        {
          "name": "stderr",
          "output_type": "stream",
          "text": [
            "WARNING:absl:`lr` is deprecated in Keras optimizer, please use `learning_rate` or use the legacy optimizer, e.g.,tf.keras.optimizers.legacy.Adam.\n"
          ]
        },
        {
          "name": "stdout",
          "output_type": "stream",
          "text": [
            "learning rate: 2.5e-05\n",
            "num_dense_layers: 1\n",
            "num_dense_nodes: 94\n",
            "activation:  relu\n",
            "\n",
            "Epoch 1/3\n",
            "443/443 [==============================] - 62s 137ms/step - loss: 0.2332 - accuracy: 0.9317 - val_loss: 0.0624 - val_accuracy: 0.9795 - lr: 0.0010\n",
            "Epoch 2/3\n",
            "443/443 [==============================] - 61s 138ms/step - loss: 0.0610 - accuracy: 0.9816 - val_loss: 0.0499 - val_accuracy: 0.9829 - lr: 0.0010\n",
            "Epoch 3/3\n",
            "443/443 [==============================] - 59s 133ms/step - loss: 0.0434 - accuracy: 0.9871 - val_loss: 0.0446 - val_accuracy: 0.9856 - lr: 0.0010\n",
            "\n",
            "Accuracy: 98.56%\n",
            "\n"
          ]
        },
        {
          "name": "stderr",
          "output_type": "stream",
          "text": [
            "WARNING:absl:`lr` is deprecated in Keras optimizer, please use `learning_rate` or use the legacy optimizer, e.g.,tf.keras.optimizers.legacy.Adam.\n"
          ]
        },
        {
          "name": "stdout",
          "output_type": "stream",
          "text": [
            "learning rate: 9.8e-04\n",
            "num_dense_layers: 3\n",
            "num_dense_nodes: 58\n",
            "activation:  relu\n",
            "\n",
            "Epoch 1/3\n",
            "443/443 [==============================] - 62s 137ms/step - loss: 0.3036 - accuracy: 0.9057 - val_loss: 0.0833 - val_accuracy: 0.9737 - lr: 0.0010\n",
            "Epoch 2/3\n",
            "443/443 [==============================] - 62s 139ms/step - loss: 0.0723 - accuracy: 0.9780 - val_loss: 0.0538 - val_accuracy: 0.9824 - lr: 0.0010\n",
            "Epoch 3/3\n",
            "443/443 [==============================] - 60s 136ms/step - loss: 0.0522 - accuracy: 0.9843 - val_loss: 0.0487 - val_accuracy: 0.9838 - lr: 0.0010\n",
            "\n",
            "Accuracy: 98.38%\n",
            "\n"
          ]
        },
        {
          "name": "stderr",
          "output_type": "stream",
          "text": [
            "WARNING:absl:`lr` is deprecated in Keras optimizer, please use `learning_rate` or use the legacy optimizer, e.g.,tf.keras.optimizers.legacy.Adam.\n"
          ]
        },
        {
          "name": "stdout",
          "output_type": "stream",
          "text": [
            "learning rate: 9.9e-04\n",
            "num_dense_layers: 1\n",
            "num_dense_nodes: 39\n",
            "activation:  relu\n",
            "\n",
            "Epoch 1/3\n",
            "443/443 [==============================] - 64s 141ms/step - loss: 0.2601 - accuracy: 0.9262 - val_loss: 0.0786 - val_accuracy: 0.9759 - lr: 0.0010\n",
            "Epoch 2/3\n",
            "443/443 [==============================] - 60s 135ms/step - loss: 0.0702 - accuracy: 0.9787 - val_loss: 0.0597 - val_accuracy: 0.9800 - lr: 0.0010\n",
            "Epoch 3/3\n",
            "443/443 [==============================] - 60s 135ms/step - loss: 0.0512 - accuracy: 0.9845 - val_loss: 0.0471 - val_accuracy: 0.9856 - lr: 0.0010\n",
            "\n",
            "Accuracy: 98.56%\n",
            "\n"
          ]
        },
        {
          "name": "stderr",
          "output_type": "stream",
          "text": [
            "WARNING:absl:`lr` is deprecated in Keras optimizer, please use `learning_rate` or use the legacy optimizer, e.g.,tf.keras.optimizers.legacy.Adam.\n"
          ]
        },
        {
          "name": "stdout",
          "output_type": "stream",
          "text": [
            "learning rate: 9.9e-04\n",
            "num_dense_layers: 1\n",
            "num_dense_nodes: 74\n",
            "activation:  tanh\n",
            "\n",
            "Epoch 1/3\n",
            "443/443 [==============================] - 65s 143ms/step - loss: 0.2037 - accuracy: 0.9434 - val_loss: 0.0699 - val_accuracy: 0.9778 - lr: 0.0010\n",
            "Epoch 2/3\n",
            "443/443 [==============================] - 67s 152ms/step - loss: 0.0553 - accuracy: 0.9838 - val_loss: 0.0504 - val_accuracy: 0.9846 - lr: 0.0010\n",
            "Epoch 3/3\n",
            "443/443 [==============================] - 69s 157ms/step - loss: 0.0372 - accuracy: 0.9895 - val_loss: 0.0436 - val_accuracy: 0.9862 - lr: 0.0010\n",
            "\n",
            "Accuracy: 98.62%\n",
            "\n"
          ]
        },
        {
          "name": "stderr",
          "output_type": "stream",
          "text": [
            "WARNING:absl:`lr` is deprecated in Keras optimizer, please use `learning_rate` or use the legacy optimizer, e.g.,tf.keras.optimizers.legacy.Adam.\n"
          ]
        },
        {
          "name": "stdout",
          "output_type": "stream",
          "text": [
            "learning rate: 9.5e-04\n",
            "num_dense_layers: 2\n",
            "num_dense_nodes: 128\n",
            "activation:  relu\n",
            "\n",
            "Epoch 1/3\n",
            "443/443 [==============================] - 69s 153ms/step - loss: 0.2268 - accuracy: 0.9309 - val_loss: 0.0657 - val_accuracy: 0.9784 - lr: 0.0010\n",
            "Epoch 2/3\n",
            "443/443 [==============================] - 69s 155ms/step - loss: 0.0579 - accuracy: 0.9824 - val_loss: 0.0539 - val_accuracy: 0.9821 - lr: 0.0010\n",
            "Epoch 3/3\n",
            "443/443 [==============================] - 71s 161ms/step - loss: 0.0422 - accuracy: 0.9876 - val_loss: 0.0415 - val_accuracy: 0.9863 - lr: 0.0010\n",
            "\n",
            "Accuracy: 98.63%\n",
            "\n"
          ]
        },
        {
          "name": "stderr",
          "output_type": "stream",
          "text": [
            "WARNING:absl:`lr` is deprecated in Keras optimizer, please use `learning_rate` or use the legacy optimizer, e.g.,tf.keras.optimizers.legacy.Adam.\n"
          ]
        },
        {
          "name": "stdout",
          "output_type": "stream",
          "text": [
            "learning rate: 7.8e-05\n",
            "num_dense_layers: 3\n",
            "num_dense_nodes: 100\n",
            "activation:  tanh\n",
            "\n",
            "Epoch 1/3\n",
            "443/443 [==============================] - 70s 156ms/step - loss: 0.1978 - accuracy: 0.9423 - val_loss: 0.0717 - val_accuracy: 0.9781 - lr: 0.0010\n",
            "Epoch 2/3\n",
            "443/443 [==============================] - 69s 155ms/step - loss: 0.0565 - accuracy: 0.9822 - val_loss: 0.0620 - val_accuracy: 0.9794 - lr: 0.0010\n",
            "Epoch 3/3\n",
            "443/443 [==============================] - 66s 149ms/step - loss: 0.0398 - accuracy: 0.9877 - val_loss: 0.0560 - val_accuracy: 0.9827 - lr: 0.0010\n",
            "\n",
            "Accuracy: 98.27%\n",
            "\n"
          ]
        },
        {
          "name": "stderr",
          "output_type": "stream",
          "text": [
            "WARNING:absl:`lr` is deprecated in Keras optimizer, please use `learning_rate` or use the legacy optimizer, e.g.,tf.keras.optimizers.legacy.Adam.\n"
          ]
        },
        {
          "name": "stdout",
          "output_type": "stream",
          "text": [
            "learning rate: 9.9e-04\n",
            "num_dense_layers: 3\n",
            "num_dense_nodes: 42\n",
            "activation:  tanh\n",
            "\n",
            "Epoch 1/3\n",
            "443/443 [==============================] - 62s 136ms/step - loss: 0.2541 - accuracy: 0.9349 - val_loss: 0.0803 - val_accuracy: 0.9767 - lr: 0.0010\n",
            "Epoch 2/3\n",
            "443/443 [==============================] - 62s 141ms/step - loss: 0.0613 - accuracy: 0.9828 - val_loss: 0.0518 - val_accuracy: 0.9851 - lr: 0.0010\n",
            "Epoch 3/3\n",
            "443/443 [==============================] - 61s 137ms/step - loss: 0.0419 - accuracy: 0.9877 - val_loss: 0.0525 - val_accuracy: 0.9846 - lr: 0.0010\n",
            "\n",
            "Accuracy: 98.46%\n",
            "\n"
          ]
        },
        {
          "name": "stderr",
          "output_type": "stream",
          "text": [
            "WARNING:absl:`lr` is deprecated in Keras optimizer, please use `learning_rate` or use the legacy optimizer, e.g.,tf.keras.optimizers.legacy.Adam.\n"
          ]
        },
        {
          "name": "stdout",
          "output_type": "stream",
          "text": [
            "learning rate: 9.9e-04\n",
            "num_dense_layers: 3\n",
            "num_dense_nodes: 128\n",
            "activation:  tanh\n",
            "\n",
            "Epoch 1/3\n",
            "443/443 [==============================] - 67s 149ms/step - loss: 0.1741 - accuracy: 0.9499 - val_loss: 0.0629 - val_accuracy: 0.9806 - lr: 0.0010\n",
            "Epoch 2/3\n",
            "443/443 [==============================] - 62s 140ms/step - loss: 0.0508 - accuracy: 0.9845 - val_loss: 0.0484 - val_accuracy: 0.9838 - lr: 0.0010\n",
            "Epoch 3/3\n",
            "443/443 [==============================] - 63s 143ms/step - loss: 0.0342 - accuracy: 0.9896 - val_loss: 0.0444 - val_accuracy: 0.9854 - lr: 0.0010\n",
            "\n",
            "Accuracy: 98.54%\n",
            "\n"
          ]
        },
        {
          "name": "stderr",
          "output_type": "stream",
          "text": [
            "WARNING:absl:`lr` is deprecated in Keras optimizer, please use `learning_rate` or use the legacy optimizer, e.g.,tf.keras.optimizers.legacy.Adam.\n"
          ]
        },
        {
          "name": "stdout",
          "output_type": "stream",
          "text": [
            "learning rate: 1.0e-03\n",
            "num_dense_layers: 1\n",
            "num_dense_nodes: 128\n",
            "activation:  tanh\n",
            "\n",
            "Epoch 1/3\n",
            "443/443 [==============================] - 64s 141ms/step - loss: 0.1845 - accuracy: 0.9471 - val_loss: 0.0641 - val_accuracy: 0.9808 - lr: 0.0010\n",
            "Epoch 2/3\n",
            "443/443 [==============================] - 61s 139ms/step - loss: 0.0522 - accuracy: 0.9842 - val_loss: 0.0469 - val_accuracy: 0.9846 - lr: 0.0010\n",
            "Epoch 3/3\n",
            "443/443 [==============================] - 65s 147ms/step - loss: 0.0350 - accuracy: 0.9898 - val_loss: 0.0410 - val_accuracy: 0.9878 - lr: 0.0010\n",
            "\n",
            "Accuracy: 98.78%\n",
            "\n"
          ]
        },
        {
          "name": "stderr",
          "output_type": "stream",
          "text": [
            "WARNING:absl:`lr` is deprecated in Keras optimizer, please use `learning_rate` or use the legacy optimizer, e.g.,tf.keras.optimizers.legacy.Adam.\n"
          ]
        },
        {
          "name": "stdout",
          "output_type": "stream",
          "text": [
            "learning rate: 5.2e-05\n",
            "num_dense_layers: 1\n",
            "num_dense_nodes: 128\n",
            "activation:  relu\n",
            "\n",
            "Epoch 1/3\n",
            "443/443 [==============================] - 62s 138ms/step - loss: 0.2135 - accuracy: 0.9391 - val_loss: 0.0622 - val_accuracy: 0.9814 - lr: 0.0010\n",
            "Epoch 2/3\n",
            "443/443 [==============================] - 62s 139ms/step - loss: 0.0546 - accuracy: 0.9830 - val_loss: 0.0472 - val_accuracy: 0.9841 - lr: 0.0010\n",
            "Epoch 3/3\n",
            "443/443 [==============================] - 60s 136ms/step - loss: 0.0382 - accuracy: 0.9888 - val_loss: 0.0358 - val_accuracy: 0.9892 - lr: 0.0010\n",
            "\n",
            "Accuracy: 98.92%\n",
            "\n"
          ]
        },
        {
          "name": "stderr",
          "output_type": "stream",
          "text": [
            "/usr/local/lib/python3.10/dist-packages/keras/src/engine/training.py:3103: UserWarning: You are saving your model as an HDF5 file via `model.save()`. This file format is considered legacy. We recommend using instead the native Keras format, e.g. `model.save('my_model.keras')`.\n",
            "  saving_api.save_model(\n",
            "WARNING:absl:`lr` is deprecated in Keras optimizer, please use `learning_rate` or use the legacy optimizer, e.g.,tf.keras.optimizers.legacy.Adam.\n"
          ]
        },
        {
          "name": "stdout",
          "output_type": "stream",
          "text": [
            "learning rate: 5.6e-05\n",
            "num_dense_layers: 3\n",
            "num_dense_nodes: 16\n",
            "activation:  tanh\n",
            "\n",
            "Epoch 1/3\n",
            "443/443 [==============================] - 62s 137ms/step - loss: 0.5245 - accuracy: 0.8919 - val_loss: 0.1535 - val_accuracy: 0.9700 - lr: 0.0010\n",
            "Epoch 2/3\n",
            "443/443 [==============================] - 62s 139ms/step - loss: 0.1140 - accuracy: 0.9730 - val_loss: 0.0905 - val_accuracy: 0.9759 - lr: 0.0010\n",
            "Epoch 3/3\n",
            "443/443 [==============================] - 59s 133ms/step - loss: 0.0752 - accuracy: 0.9811 - val_loss: 0.0820 - val_accuracy: 0.9773 - lr: 0.0010\n",
            "\n",
            "Accuracy: 97.73%\n",
            "\n"
          ]
        },
        {
          "name": "stderr",
          "output_type": "stream",
          "text": [
            "WARNING:absl:`lr` is deprecated in Keras optimizer, please use `learning_rate` or use the legacy optimizer, e.g.,tf.keras.optimizers.legacy.Adam.\n"
          ]
        },
        {
          "name": "stdout",
          "output_type": "stream",
          "text": [
            "learning rate: 9.9e-04\n",
            "num_dense_layers: 1\n",
            "num_dense_nodes: 126\n",
            "activation:  relu\n",
            "\n",
            "Epoch 1/3\n",
            "443/443 [==============================] - 62s 137ms/step - loss: 0.2087 - accuracy: 0.9398 - val_loss: 0.0582 - val_accuracy: 0.9816 - lr: 0.0010\n",
            "Epoch 2/3\n",
            "443/443 [==============================] - 58s 132ms/step - loss: 0.0542 - accuracy: 0.9829 - val_loss: 0.0404 - val_accuracy: 0.9879 - lr: 0.0010\n",
            "Epoch 3/3\n",
            "443/443 [==============================] - 59s 132ms/step - loss: 0.0371 - accuracy: 0.9883 - val_loss: 0.0390 - val_accuracy: 0.9879 - lr: 0.0010\n",
            "\n",
            "Accuracy: 98.79%\n",
            "\n"
          ]
        },
        {
          "name": "stderr",
          "output_type": "stream",
          "text": [
            "WARNING:absl:`lr` is deprecated in Keras optimizer, please use `learning_rate` or use the legacy optimizer, e.g.,tf.keras.optimizers.legacy.Adam.\n"
          ]
        },
        {
          "name": "stdout",
          "output_type": "stream",
          "text": [
            "learning rate: 1.2e-05\n",
            "num_dense_layers: 1\n",
            "num_dense_nodes: 128\n",
            "activation:  tanh\n",
            "\n",
            "Epoch 1/3\n",
            "443/443 [==============================] - 62s 137ms/step - loss: 0.1845 - accuracy: 0.9472 - val_loss: 0.0619 - val_accuracy: 0.9803 - lr: 0.0010\n",
            "Epoch 2/3\n",
            "443/443 [==============================] - 61s 137ms/step - loss: 0.0520 - accuracy: 0.9840 - val_loss: 0.0468 - val_accuracy: 0.9859 - lr: 0.0010\n",
            "Epoch 3/3\n",
            "443/443 [==============================] - 60s 136ms/step - loss: 0.0349 - accuracy: 0.9900 - val_loss: 0.0508 - val_accuracy: 0.9827 - lr: 0.0010\n",
            "\n",
            "Accuracy: 98.27%\n",
            "\n"
          ]
        },
        {
          "name": "stderr",
          "output_type": "stream",
          "text": [
            "WARNING:absl:`lr` is deprecated in Keras optimizer, please use `learning_rate` or use the legacy optimizer, e.g.,tf.keras.optimizers.legacy.Adam.\n"
          ]
        },
        {
          "name": "stdout",
          "output_type": "stream",
          "text": [
            "learning rate: 9.4e-04\n",
            "num_dense_layers: 3\n",
            "num_dense_nodes: 128\n",
            "activation:  relu\n",
            "\n",
            "Epoch 1/3\n",
            "443/443 [==============================] - 61s 135ms/step - loss: 0.2397 - accuracy: 0.9248 - val_loss: 0.0694 - val_accuracy: 0.9775 - lr: 0.0010\n",
            "Epoch 2/3\n",
            "443/443 [==============================] - 60s 135ms/step - loss: 0.0613 - accuracy: 0.9808 - val_loss: 0.0481 - val_accuracy: 0.9846 - lr: 0.0010\n",
            "Epoch 3/3\n",
            "443/443 [==============================] - 58s 131ms/step - loss: 0.0421 - accuracy: 0.9874 - val_loss: 0.0423 - val_accuracy: 0.9851 - lr: 0.0010\n",
            "\n",
            "Accuracy: 98.51%\n",
            "\n"
          ]
        }
      ],
      "source": [
        "# gp_ = gp_minimize(\n",
        "#     objective,\n",
        "#     param_grid,\n",
        "#     x0=default_parameters,\n",
        "#     acq_func='EI',\n",
        "#     n_calls=30,\n",
        "#     random_state=42\n",
        "# )\n",
        "\n",
        "\n",
        "gp_ = gp_minimize(\n",
        "    objective,\n",
        "    [\n",
        "        (1e-5, 1e-3),\n",
        "        (1, 3),\n",
        "        (16, 128),\n",
        "        ('relu', 'tanh')\n",
        "    ],\n",
        "    x0=default_parameters,\n",
        "    acq_func='EI',\n",
        "    n_calls=30,\n",
        "    random_state=42\n",
        ")"
      ]
    },
    {
      "cell_type": "markdown",
      "metadata": {
        "id": "U1mcHU8YWW3o"
      },
      "source": [
        "#### Analyze the results"
      ]
    },
    {
      "cell_type": "code",
      "execution_count": null,
      "metadata": {
        "colab": {
          "background_save": true
        },
        "id": "P78w2tyHVWXr",
        "outputId": "926908e9-d7c0-443d-ef21-46b10b70c5aa"
      },
      "outputs": [
        {
          "data": {
            "application/vnd.google.colaboratory.intrinsic+json": {
              "type": "string"
            },
            "text/plain": [
              "'Best score=-0.9892'"
            ]
          },
          "execution_count": 25,
          "metadata": {},
          "output_type": "execute_result"
        }
      ],
      "source": [
        "\"Best score=%.4f\"%gp_.fun"
      ]
    },
    {
      "cell_type": "code",
      "execution_count": null,
      "metadata": {
        "colab": {
          "background_save": true
        },
        "id": "p6BYvt3lWdeu",
        "outputId": "ae8bfe14-7312-40c7-b57a-eda821053dee"
      },
      "outputs": [
        {
          "data": {
            "text/plain": [
              "[5.180839810296259e-05, 1, 128, 'relu']"
            ]
          },
          "execution_count": 26,
          "metadata": {},
          "output_type": "execute_result"
        }
      ],
      "source": [
        "gp_.x"
      ]
    },
    {
      "cell_type": "code",
      "execution_count": null,
      "metadata": {
        "colab": {
          "background_save": true
        },
        "id": "vK5ZxKSJWeM-",
        "outputId": "97e07942-af84-4f31-b491-e41fe3350be6"
      },
      "outputs": [
        {
          "data": {
            "text/plain": [
              "Space([Real(low=1e-05, high=0.001, prior='uniform', transform='normalize'),\n",
              "       Integer(low=1, high=3, prior='uniform', transform='normalize'),\n",
              "       Integer(low=16, high=128, prior='uniform', transform='normalize'),\n",
              "       Categorical(categories=('relu', 'tanh'), prior=None)])"
            ]
          },
          "execution_count": 27,
          "metadata": {},
          "output_type": "execute_result"
        }
      ],
      "source": [
        "gp_.space"
      ]
    },
    {
      "cell_type": "code",
      "execution_count": null,
      "metadata": {
        "colab": {
          "background_save": true
        },
        "id": "sVrGwkDUWfo-",
        "outputId": "b34de492-448e-4c85-ffe3-64451023171f"
      },
      "outputs": [
        {
          "name": "stdout",
          "output_type": "stream",
          "text": [
            "Best parameters:\n",
            "=========================\n",
            "- learning rate=0.000052\n",
            "- num_dense_layers=1\n",
            "- num_nodes=128\n",
            "- activation=relu\n"
          ]
        }
      ],
      "source": [
        "print(\"\"\"Best parameters:\n",
        "=========================\n",
        "- learning rate=%.6f\n",
        "- num_dense_layers=%d\n",
        "- num_nodes=%d\n",
        "- activation=%s\"\"\" % (gp_.x[0],\n",
        "                      gp_.x[1],\n",
        "                      gp_.x[2],\n",
        "                      gp_.x[3]))"
      ]
    },
    {
      "cell_type": "markdown",
      "metadata": {
        "id": "tGXSHtA-XVyo"
      },
      "source": [
        "#### Convergence"
      ]
    },
    {
      "cell_type": "code",
      "execution_count": null,
      "metadata": {
        "colab": {
          "background_save": true
        },
        "id": "6B0At6QSXP-f",
        "outputId": "a33d3484-cde4-4236-9d90-54630eebf4a1"
      },
      "outputs": [
        {
          "data": {
            "text/plain": [
              "<Axes: title={'center': 'Convergence plot'}, xlabel='Number of calls $n$', ylabel='$\\\\min f(x)$ after $n$ calls'>"
            ]
          },
          "execution_count": 29,
          "metadata": {},
          "output_type": "execute_result"
        },
        {
          "data": {
            "image/png": "[encoded data removed]",
            "text/plain": [
              "<Figure size 640x480 with 1 Axes>"
            ]
          },
          "metadata": {},
          "output_type": "display_data"
        }
      ],
      "source": [
        "plot_convergence(gp_)"
      ]
    },
    {
      "cell_type": "markdown",
      "metadata": {
        "id": "Q2gdMBMlN05N"
      },
      "source": [
        "#### Partially dependency plots"
      ]
    },
    {
      "cell_type": "code",
      "execution_count": null,
      "metadata": {
        "colab": {
          "background_save": true
        },
        "id": "QGB2rYV_XZb_"
      },
      "outputs": [],
      "source": [
        "dim_names = ['learning_rate', 'num_dense_nodes', 'num_dense_layers']"
      ]
    },
    {
      "cell_type": "code",
      "execution_count": 1,
      "metadata": {
        "id": "j67KCfocN-Xw"
      },
      "outputs": [],
      "source": [
        "plot_objective(result=gp_, plot_dims=dim_names)\n",
        "plt.show()"
      ]
    },
    {
      "cell_type": "markdown",
      "metadata": {
        "id": "KqJjjZTNOzoR"
      },
      "source": [
        "#### Evaluate order"
      ]
    },
    {
      "cell_type": "code",
      "execution_count": null,
      "metadata": {
        "colab": {
          "background_save": true
        },
        "id": "wUXhSIvgOEND"
      },
      "outputs": [],
      "source": [
        "plot_evaluations(result=gp_, plot_dims=dim_names)\n",
        "plt.show()"
      ]
    },
    {
      "cell_type": "markdown",
      "metadata": {
        "id": "O5aTzj1YPRYa"
      },
      "source": [
        "#### Evaluate the model"
      ]
    },
    {
      "cell_type": "code",
      "execution_count": null,
      "metadata": {
        "colab": {
          "background_save": true
        },
        "id": "SUVoBUpRO8ph"
      },
      "outputs": [],
      "source": [
        "model = load_model(path_best_model)"
      ]
    },
    {
      "cell_type": "code",
      "execution_count": null,
      "metadata": {
        "colab": {
          "background_save": true
        },
        "id": "YW8EFSxLPVck"
      },
      "outputs": [],
      "source": [
        "result = model.evaluate(x=X_test,\n",
        "                        y=y_test)"
      ]
    },
    {
      "cell_type": "code",
      "execution_count": null,
      "metadata": {
        "colab": {
          "background_save": true
        },
        "id": "7pOz52PwPZ9j"
      },
      "outputs": [],
      "source": [
        "for name, value in zip(model.metrics_names, result):\n",
        "  print(name, value)"
      ]
    },
    {
      "cell_type": "markdown",
      "metadata": {
        "id": "nVv8vRnZPkDw"
      },
      "source": [
        "#### Confusion matrix"
      ]
    },
    {
      "cell_type": "code",
      "execution_count": null,
      "metadata": {
        "colab": {
          "background_save": true
        },
        "id": "Qe-9jXLuPfny"
      },
      "outputs": [],
      "source": [
        "y_pred = model.predict(X_test)\n",
        "y_pred_classes = np.argmax(y_pred, axis=1)\n",
        "y_true = np.argmax(y_test, axis=1)\n",
        "cm = confusion_matrix(y_true, y_pred_classes)\n",
        "\n",
        "cm"
      ]
    },
    {
      "cell_type": "code",
      "execution_count": null,
      "metadata": {
        "colab": {
          "background_save": true
        },
        "id": "S678_VZTP1_R"
      },
      "outputs": [],
      "source": [
        "classes = 10\n",
        "\n",
        "plt.imshow(cm, interpolation='nearest', cmap=plt.cm.Blues)\n",
        "plt.title('Confusion matrix')\n",
        "plt.colorbar()\n",
        "tick_marks = np.arange(classes)\n",
        "plt.xticks(ticks_marks, range(classes), rotation=45)\n",
        "plt.yticks(ticks_marks, range(classes))\n",
        "\n",
        "for i,j in itertools.product(range(cm.shape[0]), range(cm.shape[1])):\n",
        "  plt.text(j,i, cm[i,j],\n",
        "           horizontalalignment='center',\n",
        "           color='white' if cm[i,j] > 100 else 'black',)\n",
        "plt.tight_layout()\n",
        "plt.ylabel('True label')\n",
        "plt.xlabel('Predicted label')"
      ]
    }
  ],
  "metadata": {
    "colab": {
      "provenance": []
    },
    "kernelspec": {
      "display_name": "Python 3",
      "name": "python3"
    },
    "language_info": {
      "name": "python"
    }
  },
  "nbformat": 4,
  "nbformat_minor": 0
}